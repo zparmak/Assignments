{
 "cells": [
  {
   "cell_type": "code",
   "execution_count": null,
   "id": "1a997dbf",
   "metadata": {},
   "outputs": [],
   "source": [
    "# Assignment 12"
   ]
  },
  {
   "cell_type": "code",
   "execution_count": 1,
   "id": "fbcc41c8",
   "metadata": {},
   "outputs": [
    {
     "name": "stdout",
     "output_type": "stream",
     "text": [
      "Enter a positive integer number which you want to learn if it is a Armstrong number: 9764\n",
      "9764 is not an Armstrong number.\n"
     ]
    }
   ],
   "source": [
    "number = input(\"Enter a positive integer number which you want to learn if it is a Armstrong number: \")\n",
    "total = 0\n",
    "\n",
    "if int(number) > 0:\n",
    "    for i in number:\n",
    "        x = len(number)\n",
    "        total = total + int (i) ** x\n",
    "    if total == int(number):\n",
    "        print(f\"{number} is an Armstrong number.\")\n",
    "    else: \n",
    "        print(f\"{number} is not an Armstrong number.\")\n",
    "else:\n",
    "    print(f\"The entered number is not an positive integer number! Enter a positive integer number!\")\n"
   ]
  },
  {
   "cell_type": "code",
   "execution_count": null,
   "id": "baaa919a",
   "metadata": {},
   "outputs": [],
   "source": []
  },
  {
   "cell_type": "code",
   "execution_count": null,
   "id": "ec43eaf6",
   "metadata": {},
   "outputs": [],
   "source": [
    "# Assignment 13"
   ]
  },
  {
   "cell_type": "code",
   "execution_count": 2,
   "id": "82a55830",
   "metadata": {},
   "outputs": [
    {
     "name": "stdout",
     "output_type": "stream",
     "text": [
      "Enter a positive integer number which you want to learn if it is a prime number: 24\n",
      "24 is not a prime number.\n"
     ]
    }
   ],
   "source": [
    "number = (input(\"Enter a positive integer number which you want to learn if it is a prime number: \"))\n",
    "\n",
    "if int(number) <= 1:\n",
    "    print(f\"{number} is not a prime number.\")\n",
    "else:\n",
    "    for i in range(2, int(number)):\n",
    "        if int(number) % i != 0:\n",
    "            print(f\"{number} is a prime number.\")\n",
    "            break\n",
    "            \n",
    "        else:\n",
    "            print(f\"{number} is not a prime number.\") \n",
    "            break"
   ]
  },
  {
   "cell_type": "code",
   "execution_count": null,
   "id": "00822c06",
   "metadata": {},
   "outputs": [],
   "source": []
  }
 ],
 "metadata": {
  "kernelspec": {
   "display_name": "Python 3 (ipykernel)",
   "language": "python",
   "name": "python3"
  },
  "language_info": {
   "codemirror_mode": {
    "name": "ipython",
    "version": 3
   },
   "file_extension": ".py",
   "mimetype": "text/x-python",
   "name": "python",
   "nbconvert_exporter": "python",
   "pygments_lexer": "ipython3",
   "version": "3.9.12"
  }
 },
 "nbformat": 4,
 "nbformat_minor": 5
}

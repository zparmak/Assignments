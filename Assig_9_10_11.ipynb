{
 "cells": [
  {
   "cell_type": "code",
   "execution_count": null,
   "id": "f67caa24",
   "metadata": {},
   "outputs": [],
   "source": [
    "# Assignment 9"
   ]
  },
  {
   "cell_type": "code",
   "execution_count": 4,
   "id": "27beeb1e",
   "metadata": {},
   "outputs": [
    {
     "name": "stdout",
     "output_type": "stream",
     "text": [
      "Enter your name: ayşe\n",
      "Hello, Ayşe!  See you later.\n"
     ]
    }
   ],
   "source": [
    "name = input(\"Enter your name: \").title()\n",
    "if name == \"Zeynep\":\n",
    "    print(\"Hello, Zeynep! The password is : W@12\")\n",
    "else:\n",
    "    print(f\"Hello, {name}!  See you later.\")"
   ]
  },
  {
   "cell_type": "code",
   "execution_count": null,
   "id": "657a73cc",
   "metadata": {},
   "outputs": [],
   "source": []
  },
  {
   "cell_type": "code",
   "execution_count": null,
   "id": "582274c1",
   "metadata": {},
   "outputs": [],
   "source": [
    "# Assignment 10"
   ]
  },
  {
   "cell_type": "code",
   "execution_count": null,
   "id": "19ddf08f",
   "metadata": {
    "scrolled": true
   },
   "outputs": [],
   "source": [
    "age = input(\"I am older than 75 - Write it is true or false: \").title()\n",
    "chronic = input(\"I have a severe chronic disease - Write it is true or false: \").title()\n",
    "immune = input( \"My immune system too weak - Write it is true or false: \").title()\n",
    "\n",
    "if age == \"False\" and chronic == \"False\" and immune == \"False\":\n",
    "    print(\"You are not in risky group.\")\n",
    "else:\n",
    "    print(\"You are in risky group.\")"
   ]
  },
  {
   "cell_type": "code",
   "execution_count": null,
   "id": "6973a6b8",
   "metadata": {},
   "outputs": [],
   "source": []
  },
  {
   "cell_type": "code",
   "execution_count": null,
   "id": "b4ee9991",
   "metadata": {},
   "outputs": [],
   "source": [
    "# Assignment 11"
   ]
  },
  {
   "cell_type": "code",
   "execution_count": 2,
   "id": "e1e78283",
   "metadata": {},
   "outputs": [
    {
     "name": "stdout",
     "output_type": "stream",
     "text": [
      "Enter the year you want to know if it is a leap year according to Gregorian calendar: 1200\n",
      "1200 is a leap year.\n"
     ]
    }
   ],
   "source": [
    "year = int(input(\"Enter the year you want to know if it is a leap year according to Gregorian calendar: \"))\n",
    "\n",
    "if year % 4 == 0 and year % 100 != 0:\n",
    "    print(f\"{year} is a leap year.\")\n",
    "elif year % 400 == 0:\n",
    "    print(f\"{year} is a leap year.\")\n",
    "else:\n",
    "    print(f\"{year} is not a leap year.\")"
   ]
  },
  {
   "cell_type": "code",
   "execution_count": null,
   "id": "b43476b8",
   "metadata": {},
   "outputs": [],
   "source": []
  },
  {
   "cell_type": "code",
   "execution_count": null,
   "id": "26f89c1c",
   "metadata": {},
   "outputs": [],
   "source": []
  },
  {
   "cell_type": "code",
   "execution_count": null,
   "id": "b306b5fc",
   "metadata": {},
   "outputs": [],
   "source": []
  },
  {
   "cell_type": "code",
   "execution_count": null,
   "id": "d2c95eb9",
   "metadata": {},
   "outputs": [],
   "source": []
  },
  {
   "cell_type": "code",
   "execution_count": null,
   "id": "092d59a2",
   "metadata": {},
   "outputs": [],
   "source": []
  },
  {
   "cell_type": "code",
   "execution_count": null,
   "id": "da48343a",
   "metadata": {},
   "outputs": [],
   "source": []
  },
  {
   "cell_type": "code",
   "execution_count": null,
   "id": "9d4a9f3a",
   "metadata": {},
   "outputs": [],
   "source": []
  },
  {
   "cell_type": "code",
   "execution_count": null,
   "id": "5b003e22",
   "metadata": {},
   "outputs": [],
   "source": []
  },
  {
   "cell_type": "code",
   "execution_count": null,
   "id": "e2d64d4b",
   "metadata": {},
   "outputs": [],
   "source": []
  },
  {
   "cell_type": "code",
   "execution_count": null,
   "id": "f32bb6b7",
   "metadata": {},
   "outputs": [],
   "source": []
  },
  {
   "cell_type": "code",
   "execution_count": null,
   "id": "68ee3aee",
   "metadata": {},
   "outputs": [],
   "source": []
  },
  {
   "cell_type": "code",
   "execution_count": null,
   "id": "dc9e2268",
   "metadata": {},
   "outputs": [],
   "source": []
  }
 ],
 "metadata": {
  "kernelspec": {
   "display_name": "Python 3 (ipykernel)",
   "language": "python",
   "name": "python3"
  },
  "language_info": {
   "codemirror_mode": {
    "name": "ipython",
    "version": 3
   },
   "file_extension": ".py",
   "mimetype": "text/x-python",
   "name": "python",
   "nbconvert_exporter": "python",
   "pygments_lexer": "ipython3",
   "version": "3.9.12"
  }
 },
 "nbformat": 4,
 "nbformat_minor": 5
}
